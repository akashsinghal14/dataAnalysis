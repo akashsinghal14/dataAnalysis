{
 "cells": [
  {
   "cell_type": "code",
   "execution_count": 132,
   "id": "3f631c6e",
   "metadata": {},
   "outputs": [],
   "source": [
    "import pandas as pd"
   ]
  },
  {
   "cell_type": "code",
   "execution_count": 173,
   "id": "1e3332b7",
   "metadata": {},
   "outputs": [
    {
     "data": {
      "text/html": [
       "<div>\n",
       "<style scoped>\n",
       "    .dataframe tbody tr th:only-of-type {\n",
       "        vertical-align: middle;\n",
       "    }\n",
       "\n",
       "    .dataframe tbody tr th {\n",
       "        vertical-align: top;\n",
       "    }\n",
       "\n",
       "    .dataframe thead th {\n",
       "        text-align: right;\n",
       "    }\n",
       "</style>\n",
       "<table border=\"1\" class=\"dataframe\">\n",
       "  <thead>\n",
       "    <tr style=\"text-align: right;\">\n",
       "      <th></th>\n",
       "      <th>STudent_key</th>\n",
       "      <th>TEST_ADMIN_PERIOD</th>\n",
       "      <th>TEST_PASSED_INDICATOR</th>\n",
       "      <th>TEST_PRIMARY_RESULT</th>\n",
       "      <th>TEST_SCORE_VALUE</th>\n",
       "      <th>TEST_RAW_SCORE</th>\n",
       "      <th>TEST_SCALED_SCORE</th>\n",
       "      <th>TEST_PERCENTAGE_SCORE</th>\n",
       "      <th>TEST_CLASS</th>\n",
       "      <th>TEST_GROUP</th>\n",
       "      <th>TEST_SUBGROUP</th>\n",
       "      <th>TEST_TYPE</th>\n",
       "      <th>TEST_SUBJECT</th>\n",
       "      <th>COURSES_SUBJECT</th>\n",
       "      <th>TEST_SHORT_NAME</th>\n",
       "    </tr>\n",
       "  </thead>\n",
       "  <tbody>\n",
       "    <tr>\n",
       "      <th>0</th>\n",
       "      <td>4258</td>\n",
       "      <td>Fall</td>\n",
       "      <td>--</td>\n",
       "      <td>Not Specified</td>\n",
       "      <td>0.0</td>\n",
       "      <td>0.0</td>\n",
       "      <td>0.0</td>\n",
       "      <td>0.0</td>\n",
       "      <td>Strand</td>\n",
       "      <td>Lessons</td>\n",
       "      <td>High-Frequency Words</td>\n",
       "      <td>Interim</td>\n",
       "      <td>English Language Arts</td>\n",
       "      <td>English Language Arts</td>\n",
       "      <td>LES_ELA_HI_FREQ_WORD</td>\n",
       "    </tr>\n",
       "    <tr>\n",
       "      <th>1</th>\n",
       "      <td>4258</td>\n",
       "      <td>Fall</td>\n",
       "      <td>--</td>\n",
       "      <td>Not Specified</td>\n",
       "      <td>14.0</td>\n",
       "      <td>1.0</td>\n",
       "      <td>14.0</td>\n",
       "      <td>93.0</td>\n",
       "      <td>Component</td>\n",
       "      <td>Lessons</td>\n",
       "      <td>Instructional Overall</td>\n",
       "      <td>Interim</td>\n",
       "      <td>English Language Arts</td>\n",
       "      <td>English Language Arts</td>\n",
       "      <td>LES_ELA_OVERALL</td>\n",
       "    </tr>\n",
       "    <tr>\n",
       "      <th>2</th>\n",
       "      <td>4950</td>\n",
       "      <td>Fall</td>\n",
       "      <td>--</td>\n",
       "      <td>Not Specified</td>\n",
       "      <td>0.0</td>\n",
       "      <td>0.0</td>\n",
       "      <td>0.0</td>\n",
       "      <td>0.0</td>\n",
       "      <td>Strand</td>\n",
       "      <td>Lessons</td>\n",
       "      <td>Phonological Awareness</td>\n",
       "      <td>Interim</td>\n",
       "      <td>English Language Arts</td>\n",
       "      <td>English Language Arts</td>\n",
       "      <td>LES_ELA_PHON_AWARE</td>\n",
       "    </tr>\n",
       "    <tr>\n",
       "      <th>3</th>\n",
       "      <td>4258</td>\n",
       "      <td>Fall</td>\n",
       "      <td>--</td>\n",
       "      <td>Not Specified</td>\n",
       "      <td>0.0</td>\n",
       "      <td>0.0</td>\n",
       "      <td>0.0</td>\n",
       "      <td>0.0</td>\n",
       "      <td>Strand</td>\n",
       "      <td>Lessons</td>\n",
       "      <td>Phonics</td>\n",
       "      <td>Interim</td>\n",
       "      <td>English Language Arts</td>\n",
       "      <td>English Language Arts</td>\n",
       "      <td>LES_ELA_PHONICS</td>\n",
       "    </tr>\n",
       "    <tr>\n",
       "      <th>4</th>\n",
       "      <td>4258</td>\n",
       "      <td>Fall</td>\n",
       "      <td>--</td>\n",
       "      <td>Not Specified</td>\n",
       "      <td>4.0</td>\n",
       "      <td>1.0</td>\n",
       "      <td>4.0</td>\n",
       "      <td>80.0</td>\n",
       "      <td>Strand</td>\n",
       "      <td>Lessons</td>\n",
       "      <td>I-Ready ELA Reading Comprehension</td>\n",
       "      <td>Interim</td>\n",
       "      <td>English Language Arts</td>\n",
       "      <td>English Language Arts</td>\n",
       "      <td>LES_ELA_READ_COM</td>\n",
       "    </tr>\n",
       "  </tbody>\n",
       "</table>\n",
       "</div>"
      ],
      "text/plain": [
       "   STudent_key TEST_ADMIN_PERIOD TEST_PASSED_INDICATOR TEST_PRIMARY_RESULT  \\\n",
       "0         4258              Fall                    --       Not Specified   \n",
       "1         4258              Fall                    --       Not Specified   \n",
       "2         4950              Fall                    --       Not Specified   \n",
       "3         4258              Fall                    --       Not Specified   \n",
       "4         4258              Fall                    --       Not Specified   \n",
       "\n",
       "   TEST_SCORE_VALUE  TEST_RAW_SCORE  TEST_SCALED_SCORE  TEST_PERCENTAGE_SCORE  \\\n",
       "0               0.0             0.0                0.0                    0.0   \n",
       "1              14.0             1.0               14.0                   93.0   \n",
       "2               0.0             0.0                0.0                    0.0   \n",
       "3               0.0             0.0                0.0                    0.0   \n",
       "4               4.0             1.0                4.0                   80.0   \n",
       "\n",
       "  TEST_CLASS TEST_GROUP                      TEST_SUBGROUP TEST_TYPE  \\\n",
       "0     Strand    Lessons               High-Frequency Words   Interim   \n",
       "1  Component    Lessons              Instructional Overall   Interim   \n",
       "2     Strand    Lessons             Phonological Awareness   Interim   \n",
       "3     Strand    Lessons                            Phonics   Interim   \n",
       "4     Strand    Lessons  I-Ready ELA Reading Comprehension   Interim   \n",
       "\n",
       "            TEST_SUBJECT        COURSES_SUBJECT       TEST_SHORT_NAME  \n",
       "0  English Language Arts  English Language Arts  LES_ELA_HI_FREQ_WORD  \n",
       "1  English Language Arts  English Language Arts       LES_ELA_OVERALL  \n",
       "2  English Language Arts  English Language Arts    LES_ELA_PHON_AWARE  \n",
       "3  English Language Arts  English Language Arts       LES_ELA_PHONICS  \n",
       "4  English Language Arts  English Language Arts      LES_ELA_READ_COM  "
      ]
     },
     "execution_count": 173,
     "metadata": {},
     "output_type": "execute_result"
    }
   ],
   "source": [
    "data = pd.read_csv(\"assessments.csv\")\n",
    "df = data.copy()\n",
    "df.head()"
   ]
  },
  {
   "cell_type": "code",
   "execution_count": 174,
   "id": "15f51fe3",
   "metadata": {},
   "outputs": [
    {
     "data": {
      "text/html": [
       "<div>\n",
       "<style scoped>\n",
       "    .dataframe tbody tr th:only-of-type {\n",
       "        vertical-align: middle;\n",
       "    }\n",
       "\n",
       "    .dataframe tbody tr th {\n",
       "        vertical-align: top;\n",
       "    }\n",
       "\n",
       "    .dataframe thead th {\n",
       "        text-align: right;\n",
       "    }\n",
       "</style>\n",
       "<table border=\"1\" class=\"dataframe\">\n",
       "  <thead>\n",
       "    <tr style=\"text-align: right;\">\n",
       "      <th></th>\n",
       "      <th>STudent_key</th>\n",
       "      <th>TEST_SCORE_VALUE</th>\n",
       "      <th>TEST_RAW_SCORE</th>\n",
       "      <th>TEST_SCALED_SCORE</th>\n",
       "      <th>TEST_PERCENTAGE_SCORE</th>\n",
       "    </tr>\n",
       "  </thead>\n",
       "  <tbody>\n",
       "    <tr>\n",
       "      <th>count</th>\n",
       "      <td>200.000000</td>\n",
       "      <td>200.000000</td>\n",
       "      <td>7.000000</td>\n",
       "      <td>189.000000</td>\n",
       "      <td>199.000000</td>\n",
       "    </tr>\n",
       "    <tr>\n",
       "      <th>mean</th>\n",
       "      <td>2425.910000</td>\n",
       "      <td>165.742500</td>\n",
       "      <td>0.285714</td>\n",
       "      <td>160.119048</td>\n",
       "      <td>64.211055</td>\n",
       "    </tr>\n",
       "    <tr>\n",
       "      <th>std</th>\n",
       "      <td>1260.913162</td>\n",
       "      <td>262.378088</td>\n",
       "      <td>0.487950</td>\n",
       "      <td>257.169459</td>\n",
       "      <td>26.636075</td>\n",
       "    </tr>\n",
       "    <tr>\n",
       "      <th>min</th>\n",
       "      <td>1000.000000</td>\n",
       "      <td>0.000000</td>\n",
       "      <td>0.000000</td>\n",
       "      <td>0.000000</td>\n",
       "      <td>0.000000</td>\n",
       "    </tr>\n",
       "    <tr>\n",
       "      <th>25%</th>\n",
       "      <td>1023.000000</td>\n",
       "      <td>10.000000</td>\n",
       "      <td>0.000000</td>\n",
       "      <td>10.000000</td>\n",
       "      <td>46.500000</td>\n",
       "    </tr>\n",
       "    <tr>\n",
       "      <th>50%</th>\n",
       "      <td>2718.000000</td>\n",
       "      <td>26.000000</td>\n",
       "      <td>0.000000</td>\n",
       "      <td>21.000000</td>\n",
       "      <td>55.000000</td>\n",
       "    </tr>\n",
       "    <tr>\n",
       "      <th>75%</th>\n",
       "      <td>2728.000000</td>\n",
       "      <td>224.000000</td>\n",
       "      <td>0.500000</td>\n",
       "      <td>390.000000</td>\n",
       "      <td>90.000000</td>\n",
       "    </tr>\n",
       "    <tr>\n",
       "      <th>max</th>\n",
       "      <td>4950.000000</td>\n",
       "      <td>1280.000000</td>\n",
       "      <td>1.000000</td>\n",
       "      <td>1280.000000</td>\n",
       "      <td>100.000000</td>\n",
       "    </tr>\n",
       "  </tbody>\n",
       "</table>\n",
       "</div>"
      ],
      "text/plain": [
       "       STudent_key  TEST_SCORE_VALUE  TEST_RAW_SCORE  TEST_SCALED_SCORE  \\\n",
       "count   200.000000        200.000000        7.000000         189.000000   \n",
       "mean   2425.910000        165.742500        0.285714         160.119048   \n",
       "std    1260.913162        262.378088        0.487950         257.169459   \n",
       "min    1000.000000          0.000000        0.000000           0.000000   \n",
       "25%    1023.000000         10.000000        0.000000          10.000000   \n",
       "50%    2718.000000         26.000000        0.000000          21.000000   \n",
       "75%    2728.000000        224.000000        0.500000         390.000000   \n",
       "max    4950.000000       1280.000000        1.000000        1280.000000   \n",
       "\n",
       "       TEST_PERCENTAGE_SCORE  \n",
       "count             199.000000  \n",
       "mean               64.211055  \n",
       "std                26.636075  \n",
       "min                 0.000000  \n",
       "25%                46.500000  \n",
       "50%                55.000000  \n",
       "75%                90.000000  \n",
       "max               100.000000  "
      ]
     },
     "execution_count": 174,
     "metadata": {},
     "output_type": "execute_result"
    }
   ],
   "source": [
    "df.describe()"
   ]
  },
  {
   "cell_type": "code",
   "execution_count": 175,
   "id": "b9f22c0a",
   "metadata": {},
   "outputs": [
    {
     "name": "stdout",
     "output_type": "stream",
     "text": [
      "<class 'pandas.core.frame.DataFrame'>\n",
      "RangeIndex: 200 entries, 0 to 199\n",
      "Data columns (total 15 columns):\n",
      " #   Column                 Non-Null Count  Dtype  \n",
      "---  ------                 --------------  -----  \n",
      " 0   STudent_key            200 non-null    int64  \n",
      " 1   TEST_ADMIN_PERIOD      200 non-null    object \n",
      " 2   TEST_PASSED_INDICATOR  200 non-null    object \n",
      " 3   TEST_PRIMARY_RESULT    200 non-null    object \n",
      " 4   TEST_SCORE_VALUE       200 non-null    float64\n",
      " 5   TEST_RAW_SCORE         7 non-null      float64\n",
      " 6   TEST_SCALED_SCORE      189 non-null    float64\n",
      " 7   TEST_PERCENTAGE_SCORE  199 non-null    float64\n",
      " 8   TEST_CLASS             200 non-null    object \n",
      " 9   TEST_GROUP             200 non-null    object \n",
      " 10  TEST_SUBGROUP          200 non-null    object \n",
      " 11  TEST_TYPE              200 non-null    object \n",
      " 12  TEST_SUBJECT           200 non-null    object \n",
      " 13  COURSES_SUBJECT        200 non-null    object \n",
      " 14  TEST_SHORT_NAME        200 non-null    object \n",
      "dtypes: float64(4), int64(1), object(10)\n",
      "memory usage: 23.6+ KB\n"
     ]
    }
   ],
   "source": [
    "\n",
    "df.info()"
   ]
  },
  {
   "cell_type": "code",
   "execution_count": 176,
   "id": "f61b5ba6",
   "metadata": {},
   "outputs": [],
   "source": [
    "# TEST_RAW_SCORE can be removed only 7 values\n",
    "df = df.drop(columns='TEST_RAW_SCORE',axis=0)"
   ]
  },
  {
   "cell_type": "code",
   "execution_count": 177,
   "id": "d2a73b6b",
   "metadata": {},
   "outputs": [
    {
     "name": "stdout",
     "output_type": "stream",
     "text": [
      "<class 'pandas.core.frame.DataFrame'>\n",
      "RangeIndex: 200 entries, 0 to 199\n",
      "Data columns (total 14 columns):\n",
      " #   Column                 Non-Null Count  Dtype  \n",
      "---  ------                 --------------  -----  \n",
      " 0   STudent_key            200 non-null    int64  \n",
      " 1   TEST_ADMIN_PERIOD      200 non-null    object \n",
      " 2   TEST_PASSED_INDICATOR  200 non-null    object \n",
      " 3   TEST_PRIMARY_RESULT    200 non-null    object \n",
      " 4   TEST_SCORE_VALUE       200 non-null    float64\n",
      " 5   TEST_SCALED_SCORE      189 non-null    float64\n",
      " 6   TEST_PERCENTAGE_SCORE  199 non-null    float64\n",
      " 7   TEST_CLASS             200 non-null    object \n",
      " 8   TEST_GROUP             200 non-null    object \n",
      " 9   TEST_SUBGROUP          200 non-null    object \n",
      " 10  TEST_TYPE              200 non-null    object \n",
      " 11  TEST_SUBJECT           200 non-null    object \n",
      " 12  COURSES_SUBJECT        200 non-null    object \n",
      " 13  TEST_SHORT_NAME        200 non-null    object \n",
      "dtypes: float64(3), int64(1), object(10)\n",
      "memory usage: 22.0+ KB\n"
     ]
    }
   ],
   "source": [
    "df.info()"
   ]
  },
  {
   "cell_type": "code",
   "execution_count": 178,
   "id": "eeb85127",
   "metadata": {},
   "outputs": [
    {
     "data": {
      "text/plain": [
       "STudent_key              36\n",
       "TEST_ADMIN_PERIOD         4\n",
       "TEST_PASSED_INDICATOR     4\n",
       "TEST_PRIMARY_RESULT       7\n",
       "TEST_SCORE_VALUE         60\n",
       "TEST_SCALED_SCORE        51\n",
       "TEST_PERCENTAGE_SCORE    39\n",
       "TEST_CLASS                3\n",
       "TEST_GROUP                8\n",
       "TEST_SUBGROUP            21\n",
       "TEST_TYPE                 2\n",
       "TEST_SUBJECT              4\n",
       "COURSES_SUBJECT           5\n",
       "TEST_SHORT_NAME          24\n",
       "dtype: int64"
      ]
     },
     "execution_count": 178,
     "metadata": {},
     "output_type": "execute_result"
    }
   ],
   "source": [
    "df.nunique()"
   ]
  },
  {
   "cell_type": "code",
   "execution_count": 179,
   "id": "97805964",
   "metadata": {},
   "outputs": [
    {
     "name": "stdout",
     "output_type": "stream",
     "text": [
      "[4258 4950 2500 4467 2505 2504 2502 2501 2104 2103 4470 4469 4681 2724\n",
      " 1019 1018 1004 1003 1000 2723 2722 2718 1051 1050 1049 1024 1023 1021\n",
      " 1020 4227 4226 4225 4224 4223 2728 2727]\n",
      "['Fall' 'ALL' 'Winter' 'Summer']\n",
      "['--' '@NA' 'No' 'Yes']\n",
      "['Not Specified' '>=90% Probability' '--' 'Green' 'Yellow'\n",
      " 'Not College Ready' 'College Ready']\n",
      "[   0.    14.     4.    10.    20.     6.  1280.   230.   150.   140.\n",
      "  130.   100.   120.   151.   212.   222.    12.    11.    33.    19.\n",
      "   13.   400.    29.    15.    35.5  710.     8.     7.     5.     9.\n",
      "  680.   520.   510.   390.   420.   440.   500.   700.   470.   640.\n",
      "  670.   630.   780.   600.   650.   660.   720.    26.    17.    22.\n",
      "   21.    23.    34.    36.    32.    35.    39.    38.    27.    31. ]\n",
      "[   0.    14.     4.    10.    20.     6.     nan   12.    11.    33.\n",
      "   19.    13.   400.    29.    15.    35.5  710.  1280.     8.     7.\n",
      "    5.     9.   680.   520.   510.   390.   420.   440.   500.   700.\n",
      "  470.   640.   670.   630.   780.   600.   650.   660.   720.    26.\n",
      "   17.    22.    21.    23.    34.    36.    32.    35.    39.    38.\n",
      "   27.    31. ]\n",
      "[  0.  93.  80. 100.  13.  14.  nan  43.  47.  28.  53.  55.  91.  84.\n",
      "  98.  88.  39.  92.  99.  97.   8.  26.  16.  70.  86.  87.  46.  94.\n",
      "  45.  90.  95.  89.  54.   3.  23.  96.   4.  69.  40.  79.]\n",
      "['Strand' 'Component' 'Composite']\n",
      "['Lessons' 'Cross-Test' 'Subscore' 'AP Potential' 'Score' 'Test' 'Section'\n",
      " 'Overall']\n",
      "['High-Frequency Words' 'Instructional Overall' 'Phonological Awareness'\n",
      " 'Phonics' 'I-Ready ELA Reading Comprehension'\n",
      " 'I-Ready ELA Reading Comprehension: Close Reading' 'Vocabulary'\n",
      " 'Analysis in Science' 'Command of Evidence' 'PSAT: Total' 'Overall'\n",
      " 'Expression of Ideas' 'History/Social Science' 'Reading'\n",
      " 'Relevant Words in Context' 'Standard English Conventions'\n",
      " 'Evidence-Based Reading and Writing' 'Writing' 'Heart of Algebra'\n",
      " 'Mathematics' 'Problem Solving and Data Analysis']\n",
      "['Interim' 'College Readiness']\n",
      "['English Language Arts' 'AP Capstone Diploma Program' 'Mathematics'\n",
      " 'Overall']\n",
      "['English Language Arts' 'Seminar' 'Reading' 'Mathematics' 'Overall']\n",
      "['LES_ELA_HI_FREQ_WORD' 'LES_ELA_OVERALL' 'LES_ELA_PHON_AWARE'\n",
      " 'LES_ELA_PHONICS' 'LES_ELA_READ_COM' 'LES_ELA_READ_COM_CR'\n",
      " 'LES_ELA_VOCAB' 'EBRW_ASCT' 'EBRW_CE' 'SEMINAR' 'Total' 'EBRWCE' 'EBRWEI'\n",
      " 'EBRWHSSCT' 'EBRWRCT' 'EBRWRWC' 'EBRWSEC' 'EBRWOVAL' 'EBRWWCT' 'MAHA'\n",
      " 'MAMACT' 'MAPAM' 'MAOVAL' 'OVERALL']\n"
     ]
    }
   ],
   "source": [
    "# Find distinct values of each column\n",
    "for col in df:\n",
    "#     print(df[col])\n",
    "    print(df[col].unique())"
   ]
  },
  {
   "cell_type": "code",
   "execution_count": 180,
   "id": "7e73e67f",
   "metadata": {},
   "outputs": [
    {
     "data": {
      "text/plain": [
       "Index(['STudent_key', 'TEST_ADMIN_PERIOD', 'TEST_PASSED_INDICATOR',\n",
       "       'TEST_PRIMARY_RESULT', 'TEST_SCORE_VALUE', 'TEST_SCALED_SCORE',\n",
       "       'TEST_PERCENTAGE_SCORE', 'TEST_CLASS', 'TEST_GROUP', 'TEST_SUBGROUP',\n",
       "       'TEST_TYPE', 'TEST_SUBJECT', 'COURSES_SUBJECT', 'TEST_SHORT_NAME'],\n",
       "      dtype='object')"
      ]
     },
     "execution_count": 180,
     "metadata": {},
     "output_type": "execute_result"
    }
   ],
   "source": [
    "df.columns"
   ]
  },
  {
   "cell_type": "code",
   "execution_count": 181,
   "id": "5ab32fd0",
   "metadata": {},
   "outputs": [
    {
     "data": {
      "text/plain": [
       "array([1, 0, 3, 2], dtype=int64)"
      ]
     },
     "execution_count": 181,
     "metadata": {},
     "output_type": "execute_result"
    }
   ],
   "source": [
    "df['TEST_ADMIN_PERIOD'].unique()\n",
    "df['TEST_ADMIN_PERIOD'].value_counts()\n",
    "df['TEST_ADMIN_PERIOD'] = df['TEST_ADMIN_PERIOD'].map({'ALL':0, 'Fall':1, 'Summer':2, 'Winter':3})\n",
    "df['TEST_ADMIN_PERIOD'].unique()"
   ]
  },
  {
   "cell_type": "code",
   "execution_count": null,
   "id": "61de8177",
   "metadata": {},
   "outputs": [],
   "source": []
  },
  {
   "cell_type": "code",
   "execution_count": 182,
   "id": "8d55d9ff",
   "metadata": {},
   "outputs": [
    {
     "data": {
      "text/plain": [
       "TEST_PASSED_INDICATOR\n",
       "0    43\n",
       "1     5\n",
       "Name: count, dtype: int64"
      ]
     },
     "execution_count": 182,
     "metadata": {},
     "output_type": "execute_result"
    }
   ],
   "source": [
    "df['TEST_PASSED_INDICATOR'].unique()\n",
    "df['TEST_PASSED_INDICATOR'].value_counts()\n",
    "# df.drop(df[df.TEST_PASSED_INDICATOR=='No'], axis=1)\n",
    "# df['TEST_PASSED_INDICATOR'].unique()\n",
    "df = df[(df.TEST_PASSED_INDICATOR!='@NA') & (df.TEST_PASSED_INDICATOR!='--')]\n",
    "df['TEST_PASSED_INDICATOR'].value_counts()\n",
    "df.head()\n",
    "df['TEST_PASSED_INDICATOR'] = df['TEST_PASSED_INDICATOR'].map({'Yes':0, 'No':1})\n",
    "df['TEST_PASSED_INDICATOR'].value_counts()\n"
   ]
  },
  {
   "cell_type": "code",
   "execution_count": 183,
   "id": "8b72dfc0",
   "metadata": {},
   "outputs": [
    {
     "data": {
      "text/plain": [
       "TEST_PRIMARY_RESULT\n",
       "0    43\n",
       "1     5\n",
       "Name: count, dtype: int64"
      ]
     },
     "execution_count": 183,
     "metadata": {},
     "output_type": "execute_result"
    }
   ],
   "source": [
    "df['TEST_PRIMARY_RESULT'].unique()\n",
    "df = df[df.TEST_PRIMARY_RESULT!='--']\n",
    "df['TEST_PRIMARY_RESULT'].value_counts()\n",
    "df['TEST_PRIMARY_RESULT'] = df['TEST_PRIMARY_RESULT'].map({'College Ready':0, 'Not College Ready':1})\n",
    "df['TEST_PRIMARY_RESULT'].value_counts()"
   ]
  },
  {
   "cell_type": "code",
   "execution_count": 189,
   "id": "5c8eb685",
   "metadata": {},
   "outputs": [
    {
     "data": {
      "text/plain": [
       "TEST_CLASS\n",
       "0    47\n",
       "1     1\n",
       "Name: count, dtype: int64"
      ]
     },
     "execution_count": 189,
     "metadata": {},
     "output_type": "execute_result"
    }
   ],
   "source": [
    "df['TEST_CLASS'].unique()\n",
    "df['TEST_CLASS'] = df['TEST_CLASS'].map({'Component':0, 'Composite':1})\n",
    "df['TEST_CLASS'].value_counts()"
   ]
  },
  {
   "cell_type": "code",
   "execution_count": 191,
   "id": "e32c61c5",
   "metadata": {},
   "outputs": [
    {
     "data": {
      "text/plain": [
       "TEST_GROUP\n",
       "0    47\n",
       "1     1\n",
       "Name: count, dtype: int64"
      ]
     },
     "execution_count": 191,
     "metadata": {},
     "output_type": "execute_result"
    }
   ],
   "source": [
    "df['TEST_GROUP'].unique()\n",
    "df['TEST_GROUP'] = df['TEST_GROUP'].map({'Section':0, 'Overall':1})\n",
    "df['TEST_GROUP'].value_counts()"
   ]
  },
  {
   "cell_type": "code",
   "execution_count": 193,
   "id": "e950f2e1",
   "metadata": {},
   "outputs": [
    {
     "data": {
      "text/plain": [
       "TEST_SUBGROUP\n",
       "0    46\n",
       "2     1\n",
       "1     1\n",
       "Name: count, dtype: int64"
      ]
     },
     "execution_count": 193,
     "metadata": {},
     "output_type": "execute_result"
    }
   ],
   "source": [
    "df['TEST_SUBGROUP'].unique()\n",
    "df['TEST_SUBGROUP'] = df['TEST_SUBGROUP'].map({'Evidence-Based Reading and Writing':0, 'Overall':1, 'Mathematics':2})\n",
    "df['TEST_SUBGROUP'].value_counts()"
   ]
  },
  {
   "cell_type": "code",
   "execution_count": 195,
   "id": "3ca4bb6f",
   "metadata": {},
   "outputs": [
    {
     "data": {
      "text/plain": [
       "TEST_TYPE\n",
       "0    48\n",
       "Name: count, dtype: int64"
      ]
     },
     "execution_count": 195,
     "metadata": {},
     "output_type": "execute_result"
    }
   ],
   "source": [
    "df['TEST_TYPE'].unique()\n",
    "df['TEST_TYPE'] = df['TEST_TYPE'].map({'College Readiness':0})\n",
    "df['TEST_TYPE'].value_counts()"
   ]
  },
  {
   "cell_type": "code",
   "execution_count": 197,
   "id": "79d5cb14",
   "metadata": {},
   "outputs": [
    {
     "data": {
      "text/plain": [
       "TEST_SUBJECT\n",
       "0    46\n",
       "2     1\n",
       "1     1\n",
       "Name: count, dtype: int64"
      ]
     },
     "execution_count": 197,
     "metadata": {},
     "output_type": "execute_result"
    }
   ],
   "source": [
    "df['TEST_SUBJECT'].unique()\n",
    "df['TEST_SUBJECT'] = df['TEST_SUBJECT'].map({'English Language Arts':0, 'Overall':1, 'Mathematics':2})\n",
    "df['TEST_SUBJECT'].value_counts()"
   ]
  },
  {
   "cell_type": "code",
   "execution_count": 199,
   "id": "4dab8dac",
   "metadata": {},
   "outputs": [
    {
     "data": {
      "text/plain": [
       "COURSES_SUBJECT\n",
       "0    46\n",
       "2     1\n",
       "1     1\n",
       "Name: count, dtype: int64"
      ]
     },
     "execution_count": 199,
     "metadata": {},
     "output_type": "execute_result"
    }
   ],
   "source": [
    "df['COURSES_SUBJECT'].unique()\n",
    "df['COURSES_SUBJECT'] = df['COURSES_SUBJECT'].map({'English Language Arts':0, 'Overall':1, 'Mathematics':2})\n",
    "df['COURSES_SUBJECT'].value_counts()"
   ]
  },
  {
   "cell_type": "code",
   "execution_count": 200,
   "id": "b16d303a",
   "metadata": {},
   "outputs": [],
   "source": [
    "features = ['STudent_key', 'TEST_ADMIN_PERIOD', 'TEST_PASSED_INDICATOR',\n",
    "       'TEST_PRIMARY_RESULT', 'TEST_SCORE_VALUE', 'TEST_SCALED_SCORE',\n",
    "       'TEST_PERCENTAGE_SCORE', 'TEST_CLASS', 'TEST_GROUP', 'TEST_SUBGROUP',\n",
    "       'TEST_TYPE', 'TEST_SUBJECT', 'COURSES_SUBJECT']"
   ]
  },
  {
   "cell_type": "code",
   "execution_count": 201,
   "id": "cd3ba1bc",
   "metadata": {},
   "outputs": [],
   "source": [
    "y = df.TEST_SCORE_VALUE"
   ]
  },
  {
   "cell_type": "code",
   "execution_count": 202,
   "id": "73b2867b",
   "metadata": {},
   "outputs": [],
   "source": [
    "X = df[features]"
   ]
  },
  {
   "cell_type": "code",
   "execution_count": 203,
   "id": "f9b5b3bc",
   "metadata": {},
   "outputs": [
    {
     "data": {
      "text/html": [
       "<div>\n",
       "<style scoped>\n",
       "    .dataframe tbody tr th:only-of-type {\n",
       "        vertical-align: middle;\n",
       "    }\n",
       "\n",
       "    .dataframe tbody tr th {\n",
       "        vertical-align: top;\n",
       "    }\n",
       "\n",
       "    .dataframe thead th {\n",
       "        text-align: right;\n",
       "    }\n",
       "</style>\n",
       "<table border=\"1\" class=\"dataframe\">\n",
       "  <thead>\n",
       "    <tr style=\"text-align: right;\">\n",
       "      <th></th>\n",
       "      <th>STudent_key</th>\n",
       "      <th>TEST_ADMIN_PERIOD</th>\n",
       "      <th>TEST_PASSED_INDICATOR</th>\n",
       "      <th>TEST_PRIMARY_RESULT</th>\n",
       "      <th>TEST_SCORE_VALUE</th>\n",
       "      <th>TEST_SCALED_SCORE</th>\n",
       "      <th>TEST_PERCENTAGE_SCORE</th>\n",
       "      <th>TEST_CLASS</th>\n",
       "      <th>TEST_GROUP</th>\n",
       "      <th>TEST_SUBGROUP</th>\n",
       "      <th>TEST_TYPE</th>\n",
       "      <th>TEST_SUBJECT</th>\n",
       "      <th>COURSES_SUBJECT</th>\n",
       "    </tr>\n",
       "  </thead>\n",
       "  <tbody>\n",
       "    <tr>\n",
       "      <th>26</th>\n",
       "      <td>4681</td>\n",
       "      <td>0</td>\n",
       "      <td>1</td>\n",
       "      <td>1</td>\n",
       "      <td>400.0</td>\n",
       "      <td>400.0</td>\n",
       "      <td>39.0</td>\n",
       "      <td>0</td>\n",
       "      <td>0</td>\n",
       "      <td>0</td>\n",
       "      <td>0</td>\n",
       "      <td>0</td>\n",
       "      <td>0</td>\n",
       "    </tr>\n",
       "    <tr>\n",
       "      <th>31</th>\n",
       "      <td>2500</td>\n",
       "      <td>0</td>\n",
       "      <td>0</td>\n",
       "      <td>0</td>\n",
       "      <td>710.0</td>\n",
       "      <td>710.0</td>\n",
       "      <td>99.0</td>\n",
       "      <td>0</td>\n",
       "      <td>0</td>\n",
       "      <td>2</td>\n",
       "      <td>0</td>\n",
       "      <td>2</td>\n",
       "      <td>2</td>\n",
       "    </tr>\n",
       "    <tr>\n",
       "      <th>32</th>\n",
       "      <td>2500</td>\n",
       "      <td>0</td>\n",
       "      <td>0</td>\n",
       "      <td>0</td>\n",
       "      <td>1280.0</td>\n",
       "      <td>1280.0</td>\n",
       "      <td>98.0</td>\n",
       "      <td>1</td>\n",
       "      <td>1</td>\n",
       "      <td>1</td>\n",
       "      <td>0</td>\n",
       "      <td>1</td>\n",
       "      <td>1</td>\n",
       "    </tr>\n",
       "    <tr>\n",
       "      <th>78</th>\n",
       "      <td>2724</td>\n",
       "      <td>0</td>\n",
       "      <td>0</td>\n",
       "      <td>0</td>\n",
       "      <td>680.0</td>\n",
       "      <td>680.0</td>\n",
       "      <td>92.0</td>\n",
       "      <td>0</td>\n",
       "      <td>0</td>\n",
       "      <td>0</td>\n",
       "      <td>0</td>\n",
       "      <td>0</td>\n",
       "      <td>0</td>\n",
       "    </tr>\n",
       "    <tr>\n",
       "      <th>79</th>\n",
       "      <td>1019</td>\n",
       "      <td>0</td>\n",
       "      <td>0</td>\n",
       "      <td>0</td>\n",
       "      <td>520.0</td>\n",
       "      <td>520.0</td>\n",
       "      <td>46.0</td>\n",
       "      <td>0</td>\n",
       "      <td>0</td>\n",
       "      <td>0</td>\n",
       "      <td>0</td>\n",
       "      <td>0</td>\n",
       "      <td>0</td>\n",
       "    </tr>\n",
       "  </tbody>\n",
       "</table>\n",
       "</div>"
      ],
      "text/plain": [
       "    STudent_key  TEST_ADMIN_PERIOD  TEST_PASSED_INDICATOR  \\\n",
       "26         4681                  0                      1   \n",
       "31         2500                  0                      0   \n",
       "32         2500                  0                      0   \n",
       "78         2724                  0                      0   \n",
       "79         1019                  0                      0   \n",
       "\n",
       "    TEST_PRIMARY_RESULT  TEST_SCORE_VALUE  TEST_SCALED_SCORE  \\\n",
       "26                    1             400.0              400.0   \n",
       "31                    0             710.0              710.0   \n",
       "32                    0            1280.0             1280.0   \n",
       "78                    0             680.0              680.0   \n",
       "79                    0             520.0              520.0   \n",
       "\n",
       "    TEST_PERCENTAGE_SCORE  TEST_CLASS  TEST_GROUP  TEST_SUBGROUP  TEST_TYPE  \\\n",
       "26                   39.0           0           0              0          0   \n",
       "31                   99.0           0           0              2          0   \n",
       "32                   98.0           1           1              1          0   \n",
       "78                   92.0           0           0              0          0   \n",
       "79                   46.0           0           0              0          0   \n",
       "\n",
       "    TEST_SUBJECT  COURSES_SUBJECT  \n",
       "26             0                0  \n",
       "31             2                2  \n",
       "32             1                1  \n",
       "78             0                0  \n",
       "79             0                0  "
      ]
     },
     "execution_count": 203,
     "metadata": {},
     "output_type": "execute_result"
    }
   ],
   "source": [
    "X.head()\n"
   ]
  },
  {
   "cell_type": "code",
   "execution_count": 98,
   "id": "1ca70d3c",
   "metadata": {},
   "outputs": [],
   "source": [
    "# The steps to building and using a model are:\n",
    "\n",
    "# Define: What type of model will it be? A decision tree? Some other type of model? Some other parameters of the model type are specified too.\n",
    "# Fit: Capture patterns from provided data. This is the heart of modeling.\n",
    "# Predict: Just what it sounds like\n",
    "# Evaluate: Determine how accurate the model's predictions are."
   ]
  },
  {
   "cell_type": "code",
   "execution_count": 204,
   "id": "0a2860f3",
   "metadata": {},
   "outputs": [
    {
     "data": {
      "text/html": [
       "<style>#sk-container-id-1 {color: black;}#sk-container-id-1 pre{padding: 0;}#sk-container-id-1 div.sk-toggleable {background-color: white;}#sk-container-id-1 label.sk-toggleable__label {cursor: pointer;display: block;width: 100%;margin-bottom: 0;padding: 0.3em;box-sizing: border-box;text-align: center;}#sk-container-id-1 label.sk-toggleable__label-arrow:before {content: \"▸\";float: left;margin-right: 0.25em;color: #696969;}#sk-container-id-1 label.sk-toggleable__label-arrow:hover:before {color: black;}#sk-container-id-1 div.sk-estimator:hover label.sk-toggleable__label-arrow:before {color: black;}#sk-container-id-1 div.sk-toggleable__content {max-height: 0;max-width: 0;overflow: hidden;text-align: left;background-color: #f0f8ff;}#sk-container-id-1 div.sk-toggleable__content pre {margin: 0.2em;color: black;border-radius: 0.25em;background-color: #f0f8ff;}#sk-container-id-1 input.sk-toggleable__control:checked~div.sk-toggleable__content {max-height: 200px;max-width: 100%;overflow: auto;}#sk-container-id-1 input.sk-toggleable__control:checked~label.sk-toggleable__label-arrow:before {content: \"▾\";}#sk-container-id-1 div.sk-estimator input.sk-toggleable__control:checked~label.sk-toggleable__label {background-color: #d4ebff;}#sk-container-id-1 div.sk-label input.sk-toggleable__control:checked~label.sk-toggleable__label {background-color: #d4ebff;}#sk-container-id-1 input.sk-hidden--visually {border: 0;clip: rect(1px 1px 1px 1px);clip: rect(1px, 1px, 1px, 1px);height: 1px;margin: -1px;overflow: hidden;padding: 0;position: absolute;width: 1px;}#sk-container-id-1 div.sk-estimator {font-family: monospace;background-color: #f0f8ff;border: 1px dotted black;border-radius: 0.25em;box-sizing: border-box;margin-bottom: 0.5em;}#sk-container-id-1 div.sk-estimator:hover {background-color: #d4ebff;}#sk-container-id-1 div.sk-parallel-item::after {content: \"\";width: 100%;border-bottom: 1px solid gray;flex-grow: 1;}#sk-container-id-1 div.sk-label:hover label.sk-toggleable__label {background-color: #d4ebff;}#sk-container-id-1 div.sk-serial::before {content: \"\";position: absolute;border-left: 1px solid gray;box-sizing: border-box;top: 0;bottom: 0;left: 50%;z-index: 0;}#sk-container-id-1 div.sk-serial {display: flex;flex-direction: column;align-items: center;background-color: white;padding-right: 0.2em;padding-left: 0.2em;position: relative;}#sk-container-id-1 div.sk-item {position: relative;z-index: 1;}#sk-container-id-1 div.sk-parallel {display: flex;align-items: stretch;justify-content: center;background-color: white;position: relative;}#sk-container-id-1 div.sk-item::before, #sk-container-id-1 div.sk-parallel-item::before {content: \"\";position: absolute;border-left: 1px solid gray;box-sizing: border-box;top: 0;bottom: 0;left: 50%;z-index: -1;}#sk-container-id-1 div.sk-parallel-item {display: flex;flex-direction: column;z-index: 1;position: relative;background-color: white;}#sk-container-id-1 div.sk-parallel-item:first-child::after {align-self: flex-end;width: 50%;}#sk-container-id-1 div.sk-parallel-item:last-child::after {align-self: flex-start;width: 50%;}#sk-container-id-1 div.sk-parallel-item:only-child::after {width: 0;}#sk-container-id-1 div.sk-dashed-wrapped {border: 1px dashed gray;margin: 0 0.4em 0.5em 0.4em;box-sizing: border-box;padding-bottom: 0.4em;background-color: white;}#sk-container-id-1 div.sk-label label {font-family: monospace;font-weight: bold;display: inline-block;line-height: 1.2em;}#sk-container-id-1 div.sk-label-container {text-align: center;}#sk-container-id-1 div.sk-container {/* jupyter's `normalize.less` sets `[hidden] { display: none; }` but bootstrap.min.css set `[hidden] { display: none !important; }` so we also need the `!important` here to be able to override the default hidden behavior on the sphinx rendered scikit-learn.org. See: https://github.com/scikit-learn/scikit-learn/issues/21755 */display: inline-block !important;position: relative;}#sk-container-id-1 div.sk-text-repr-fallback {display: none;}</style><div id=\"sk-container-id-1\" class=\"sk-top-container\"><div class=\"sk-text-repr-fallback\"><pre>DecisionTreeRegressor(random_state=1)</pre><b>In a Jupyter environment, please rerun this cell to show the HTML representation or trust the notebook. <br />On GitHub, the HTML representation is unable to render, please try loading this page with nbviewer.org.</b></div><div class=\"sk-container\" hidden><div class=\"sk-item\"><div class=\"sk-estimator sk-toggleable\"><input class=\"sk-toggleable__control sk-hidden--visually\" id=\"sk-estimator-id-1\" type=\"checkbox\" checked><label for=\"sk-estimator-id-1\" class=\"sk-toggleable__label sk-toggleable__label-arrow\">DecisionTreeRegressor</label><div class=\"sk-toggleable__content\"><pre>DecisionTreeRegressor(random_state=1)</pre></div></div></div></div></div>"
      ],
      "text/plain": [
       "DecisionTreeRegressor(random_state=1)"
      ]
     },
     "execution_count": 204,
     "metadata": {},
     "output_type": "execute_result"
    }
   ],
   "source": [
    "from sklearn.tree import DecisionTreeRegressor\n",
    "\n",
    "# Define model. Specify a number for random_state to ensure same results each run\n",
    "assessment_model = DecisionTreeRegressor(random_state=1)\n",
    "\n",
    "# Fit model\n",
    "assessment_model.fit(X, y)"
   ]
  },
  {
   "cell_type": "code",
   "execution_count": 205,
   "id": "b1bba754",
   "metadata": {},
   "outputs": [
    {
     "name": "stdout",
     "output_type": "stream",
     "text": [
      "    STudent_key  TEST_ADMIN_PERIOD  TEST_PASSED_INDICATOR  \\\n",
      "26         4681                  0                      1   \n",
      "31         2500                  0                      0   \n",
      "32         2500                  0                      0   \n",
      "78         2724                  0                      0   \n",
      "79         1019                  0                      0   \n",
      "\n",
      "    TEST_PRIMARY_RESULT  TEST_SCORE_VALUE  TEST_SCALED_SCORE  \\\n",
      "26                    1             400.0              400.0   \n",
      "31                    0             710.0              710.0   \n",
      "32                    0            1280.0             1280.0   \n",
      "78                    0             680.0              680.0   \n",
      "79                    0             520.0              520.0   \n",
      "\n",
      "    TEST_PERCENTAGE_SCORE  TEST_CLASS  TEST_GROUP  TEST_SUBGROUP  TEST_TYPE  \\\n",
      "26                   39.0           0           0              0          0   \n",
      "31                   99.0           0           0              2          0   \n",
      "32                   98.0           1           1              1          0   \n",
      "78                   92.0           0           0              0          0   \n",
      "79                   46.0           0           0              0          0   \n",
      "\n",
      "    TEST_SUBJECT  COURSES_SUBJECT  \n",
      "26             0                0  \n",
      "31             2                2  \n",
      "32             1                1  \n",
      "78             0                0  \n",
      "79             0                0  \n"
     ]
    }
   ],
   "source": [
    "print(X.head())"
   ]
  },
  {
   "cell_type": "code",
   "execution_count": 206,
   "id": "5db732de",
   "metadata": {},
   "outputs": [
    {
     "name": "stdout",
     "output_type": "stream",
     "text": [
      "[ 400.  710. 1280.  680.  520.]\n"
     ]
    }
   ],
   "source": [
    "print(assessment_model.predict(X.head()))"
   ]
  },
  {
   "cell_type": "code",
   "execution_count": 207,
   "id": "5dfdc7da",
   "metadata": {},
   "outputs": [
    {
     "data": {
      "text/plain": [
       "0.0"
      ]
     },
     "execution_count": 207,
     "metadata": {},
     "output_type": "execute_result"
    }
   ],
   "source": [
    "from sklearn.metrics import mean_absolute_error\n",
    "predicted_ass = assessment_model.predict(X)\n",
    "mean_absolute_error(y, predicted_ass)"
   ]
  },
  {
   "cell_type": "code",
   "execution_count": 217,
   "id": "eb4f86c9",
   "metadata": {},
   "outputs": [
    {
     "data": {
      "text/plain": [
       "(48, 14)"
      ]
     },
     "execution_count": 217,
     "metadata": {},
     "output_type": "execute_result"
    }
   ],
   "source": [
    "df.shape"
   ]
  },
  {
   "cell_type": "code",
   "execution_count": 227,
   "id": "a8aca269",
   "metadata": {},
   "outputs": [
    {
     "name": "stdout",
     "output_type": "stream",
     "text": [
      "45.833333333333336\n",
      "[510. 520. 420. 670. 640. 520. 780. 600. 680. 650. 520. 510.]\n"
     ]
    }
   ],
   "source": [
    "from sklearn.model_selection import train_test_split\n",
    "\n",
    "# split data into training and validation data, for both features and target\n",
    "# The split is based on a random number generator. Supplying a numeric value to\n",
    "# the random_state argument guarantees we get the same split every time we\n",
    "# run this script.\n",
    "train_X, val_X, train_y, val_y = train_test_split(X, y, random_state = 5)\n",
    "# Define model\n",
    "assessment_model = DecisionTreeRegressor()\n",
    "# Fit model\n",
    "assessment_model.fit(train_X, train_y)\n",
    "\n",
    "# get predicted prices on validation data\n",
    "val_predictions = assessment_model.predict(val_X)\n",
    "print(mean_absolute_error(val_y, val_predictions))\n",
    "print(assessment_model.predict(val_X))"
   ]
  },
  {
   "cell_type": "code",
   "execution_count": 232,
   "id": "71f60c91",
   "metadata": {},
   "outputs": [
    {
     "data": {
      "text/html": [
       "<div>\n",
       "<style scoped>\n",
       "    .dataframe tbody tr th:only-of-type {\n",
       "        vertical-align: middle;\n",
       "    }\n",
       "\n",
       "    .dataframe tbody tr th {\n",
       "        vertical-align: top;\n",
       "    }\n",
       "\n",
       "    .dataframe thead th {\n",
       "        text-align: right;\n",
       "    }\n",
       "</style>\n",
       "<table border=\"1\" class=\"dataframe\">\n",
       "  <thead>\n",
       "    <tr style=\"text-align: right;\">\n",
       "      <th></th>\n",
       "      <th>STudent_key</th>\n",
       "      <th>TEST_ADMIN_PERIOD</th>\n",
       "      <th>TEST_PASSED_INDICATOR</th>\n",
       "      <th>TEST_PRIMARY_RESULT</th>\n",
       "      <th>TEST_SCORE_VALUE</th>\n",
       "      <th>TEST_SCALED_SCORE</th>\n",
       "      <th>TEST_PERCENTAGE_SCORE</th>\n",
       "      <th>TEST_CLASS</th>\n",
       "      <th>TEST_GROUP</th>\n",
       "      <th>TEST_SUBGROUP</th>\n",
       "      <th>TEST_TYPE</th>\n",
       "      <th>TEST_SUBJECT</th>\n",
       "      <th>COURSES_SUBJECT</th>\n",
       "    </tr>\n",
       "  </thead>\n",
       "  <tbody>\n",
       "    <tr>\n",
       "      <th>104</th>\n",
       "      <td>1021</td>\n",
       "      <td>0</td>\n",
       "      <td>0</td>\n",
       "      <td>0</td>\n",
       "      <td>510.0</td>\n",
       "      <td>510.0</td>\n",
       "      <td>46.0</td>\n",
       "      <td>0</td>\n",
       "      <td>0</td>\n",
       "      <td>0</td>\n",
       "      <td>0</td>\n",
       "      <td>0</td>\n",
       "      <td>0</td>\n",
       "    </tr>\n",
       "    <tr>\n",
       "      <th>107</th>\n",
       "      <td>4227</td>\n",
       "      <td>0</td>\n",
       "      <td>0</td>\n",
       "      <td>0</td>\n",
       "      <td>520.0</td>\n",
       "      <td>520.0</td>\n",
       "      <td>46.0</td>\n",
       "      <td>0</td>\n",
       "      <td>0</td>\n",
       "      <td>0</td>\n",
       "      <td>0</td>\n",
       "      <td>0</td>\n",
       "      <td>0</td>\n",
       "    </tr>\n",
       "    <tr>\n",
       "      <th>81</th>\n",
       "      <td>1018</td>\n",
       "      <td>0</td>\n",
       "      <td>1</td>\n",
       "      <td>1</td>\n",
       "      <td>390.0</td>\n",
       "      <td>390.0</td>\n",
       "      <td>8.0</td>\n",
       "      <td>0</td>\n",
       "      <td>0</td>\n",
       "      <td>0</td>\n",
       "      <td>0</td>\n",
       "      <td>0</td>\n",
       "      <td>0</td>\n",
       "    </tr>\n",
       "    <tr>\n",
       "      <th>92</th>\n",
       "      <td>2722</td>\n",
       "      <td>0</td>\n",
       "      <td>0</td>\n",
       "      <td>0</td>\n",
       "      <td>670.0</td>\n",
       "      <td>670.0</td>\n",
       "      <td>90.0</td>\n",
       "      <td>0</td>\n",
       "      <td>0</td>\n",
       "      <td>0</td>\n",
       "      <td>0</td>\n",
       "      <td>0</td>\n",
       "      <td>0</td>\n",
       "    </tr>\n",
       "    <tr>\n",
       "      <th>94</th>\n",
       "      <td>2718</td>\n",
       "      <td>0</td>\n",
       "      <td>0</td>\n",
       "      <td>0</td>\n",
       "      <td>630.0</td>\n",
       "      <td>630.0</td>\n",
       "      <td>92.0</td>\n",
       "      <td>0</td>\n",
       "      <td>0</td>\n",
       "      <td>0</td>\n",
       "      <td>0</td>\n",
       "      <td>0</td>\n",
       "      <td>0</td>\n",
       "    </tr>\n",
       "    <tr>\n",
       "      <th>101</th>\n",
       "      <td>1023</td>\n",
       "      <td>0</td>\n",
       "      <td>0</td>\n",
       "      <td>0</td>\n",
       "      <td>520.0</td>\n",
       "      <td>520.0</td>\n",
       "      <td>46.0</td>\n",
       "      <td>0</td>\n",
       "      <td>0</td>\n",
       "      <td>0</td>\n",
       "      <td>0</td>\n",
       "      <td>0</td>\n",
       "      <td>0</td>\n",
       "    </tr>\n",
       "    <tr>\n",
       "      <th>32</th>\n",
       "      <td>2500</td>\n",
       "      <td>0</td>\n",
       "      <td>0</td>\n",
       "      <td>0</td>\n",
       "      <td>1280.0</td>\n",
       "      <td>1280.0</td>\n",
       "      <td>98.0</td>\n",
       "      <td>1</td>\n",
       "      <td>1</td>\n",
       "      <td>1</td>\n",
       "      <td>0</td>\n",
       "      <td>1</td>\n",
       "      <td>1</td>\n",
       "    </tr>\n",
       "    <tr>\n",
       "      <th>117</th>\n",
       "      <td>2728</td>\n",
       "      <td>0</td>\n",
       "      <td>0</td>\n",
       "      <td>0</td>\n",
       "      <td>600.0</td>\n",
       "      <td>600.0</td>\n",
       "      <td>86.0</td>\n",
       "      <td>0</td>\n",
       "      <td>0</td>\n",
       "      <td>0</td>\n",
       "      <td>0</td>\n",
       "      <td>0</td>\n",
       "      <td>0</td>\n",
       "    </tr>\n",
       "    <tr>\n",
       "      <th>78</th>\n",
       "      <td>2724</td>\n",
       "      <td>0</td>\n",
       "      <td>0</td>\n",
       "      <td>0</td>\n",
       "      <td>680.0</td>\n",
       "      <td>680.0</td>\n",
       "      <td>92.0</td>\n",
       "      <td>0</td>\n",
       "      <td>0</td>\n",
       "      <td>0</td>\n",
       "      <td>0</td>\n",
       "      <td>0</td>\n",
       "      <td>0</td>\n",
       "    </tr>\n",
       "    <tr>\n",
       "      <th>120</th>\n",
       "      <td>2727</td>\n",
       "      <td>0</td>\n",
       "      <td>0</td>\n",
       "      <td>0</td>\n",
       "      <td>660.0</td>\n",
       "      <td>660.0</td>\n",
       "      <td>89.0</td>\n",
       "      <td>0</td>\n",
       "      <td>0</td>\n",
       "      <td>0</td>\n",
       "      <td>0</td>\n",
       "      <td>0</td>\n",
       "      <td>0</td>\n",
       "    </tr>\n",
       "    <tr>\n",
       "      <th>79</th>\n",
       "      <td>1019</td>\n",
       "      <td>0</td>\n",
       "      <td>0</td>\n",
       "      <td>0</td>\n",
       "      <td>520.0</td>\n",
       "      <td>520.0</td>\n",
       "      <td>46.0</td>\n",
       "      <td>0</td>\n",
       "      <td>0</td>\n",
       "      <td>0</td>\n",
       "      <td>0</td>\n",
       "      <td>0</td>\n",
       "      <td>0</td>\n",
       "    </tr>\n",
       "    <tr>\n",
       "      <th>106</th>\n",
       "      <td>1020</td>\n",
       "      <td>0</td>\n",
       "      <td>0</td>\n",
       "      <td>0</td>\n",
       "      <td>510.0</td>\n",
       "      <td>510.0</td>\n",
       "      <td>46.0</td>\n",
       "      <td>0</td>\n",
       "      <td>0</td>\n",
       "      <td>0</td>\n",
       "      <td>0</td>\n",
       "      <td>0</td>\n",
       "      <td>0</td>\n",
       "    </tr>\n",
       "  </tbody>\n",
       "</table>\n",
       "</div>"
      ],
      "text/plain": [
       "     STudent_key  TEST_ADMIN_PERIOD  TEST_PASSED_INDICATOR  \\\n",
       "104         1021                  0                      0   \n",
       "107         4227                  0                      0   \n",
       "81          1018                  0                      1   \n",
       "92          2722                  0                      0   \n",
       "94          2718                  0                      0   \n",
       "101         1023                  0                      0   \n",
       "32          2500                  0                      0   \n",
       "117         2728                  0                      0   \n",
       "78          2724                  0                      0   \n",
       "120         2727                  0                      0   \n",
       "79          1019                  0                      0   \n",
       "106         1020                  0                      0   \n",
       "\n",
       "     TEST_PRIMARY_RESULT  TEST_SCORE_VALUE  TEST_SCALED_SCORE  \\\n",
       "104                    0             510.0              510.0   \n",
       "107                    0             520.0              520.0   \n",
       "81                     1             390.0              390.0   \n",
       "92                     0             670.0              670.0   \n",
       "94                     0             630.0              630.0   \n",
       "101                    0             520.0              520.0   \n",
       "32                     0            1280.0             1280.0   \n",
       "117                    0             600.0              600.0   \n",
       "78                     0             680.0              680.0   \n",
       "120                    0             660.0              660.0   \n",
       "79                     0             520.0              520.0   \n",
       "106                    0             510.0              510.0   \n",
       "\n",
       "     TEST_PERCENTAGE_SCORE  TEST_CLASS  TEST_GROUP  TEST_SUBGROUP  TEST_TYPE  \\\n",
       "104                   46.0           0           0              0          0   \n",
       "107                   46.0           0           0              0          0   \n",
       "81                     8.0           0           0              0          0   \n",
       "92                    90.0           0           0              0          0   \n",
       "94                    92.0           0           0              0          0   \n",
       "101                   46.0           0           0              0          0   \n",
       "32                    98.0           1           1              1          0   \n",
       "117                   86.0           0           0              0          0   \n",
       "78                    92.0           0           0              0          0   \n",
       "120                   89.0           0           0              0          0   \n",
       "79                    46.0           0           0              0          0   \n",
       "106                   46.0           0           0              0          0   \n",
       "\n",
       "     TEST_SUBJECT  COURSES_SUBJECT  \n",
       "104             0                0  \n",
       "107             0                0  \n",
       "81              0                0  \n",
       "92              0                0  \n",
       "94              0                0  \n",
       "101             0                0  \n",
       "32              1                1  \n",
       "117             0                0  \n",
       "78              0                0  \n",
       "120             0                0  \n",
       "79              0                0  \n",
       "106             0                0  "
      ]
     },
     "execution_count": 232,
     "metadata": {},
     "output_type": "execute_result"
    }
   ],
   "source": [
    "val_X\n",
    "# train_X, val_X, train_y, val_y"
   ]
  },
  {
   "cell_type": "code",
   "execution_count": 229,
   "id": "3d33dc1d",
   "metadata": {},
   "outputs": [
    {
     "data": {
      "image/png": "[encoded data removed]",
      "text/plain": [
       "<Figure size 640x480 with 1 Axes>"
      ]
     },
     "metadata": {},
     "output_type": "display_data"
    }
   ],
   "source": [
    "import matplotlib.pyplot as plt\n",
    "plt.figure()\n",
    "plt.scatter(val_y, val_predictions)\n",
    "plt.scatter(val_y, val_y)\n",
    "plt.plot(val_y, val_y)\n",
    "plt.legend([\"Predicted\", \"Original\", \"Regression Line\"])\n",
    "plt.show()"
   ]
  },
  {
   "cell_type": "code",
   "execution_count": 209,
   "id": "1907fbcc",
   "metadata": {},
   "outputs": [],
   "source": [
    "from sklearn.metrics import mean_absolute_error\n",
    "from sklearn.tree import DecisionTreeRegressor\n",
    "\n",
    "def get_mae(max_leaf_nodes, train_X, val_X, train_y, val_y):\n",
    "    model = DecisionTreeRegressor(max_leaf_nodes=max_leaf_nodes, random_state=0)\n",
    "    model.fit(train_X, train_y)\n",
    "    preds_val = model.predict(val_X)\n",
    "    mae = mean_absolute_error(val_y, preds_val)\n",
    "    return(mae)"
   ]
  },
  {
   "cell_type": "code",
   "execution_count": 210,
   "id": "b85a493a",
   "metadata": {},
   "outputs": [
    {
     "name": "stdout",
     "output_type": "stream",
     "text": [
      "Max leaf nodes: 5  \t\t Mean Absolute Error:  8\n",
      "Max leaf nodes: 50  \t\t Mean Absolute Error:  2\n",
      "Max leaf nodes: 500  \t\t Mean Absolute Error:  2\n",
      "Max leaf nodes: 5000  \t\t Mean Absolute Error:  2\n"
     ]
    }
   ],
   "source": [
    "for max_leaf_nodes in [5, 50, 500, 5000]:\n",
    "    my_mae = get_mae(max_leaf_nodes, train_X, val_X, train_y, val_y)\n",
    "    print(\"Max leaf nodes: %d  \\t\\t Mean Absolute Error:  %d\" %(max_leaf_nodes, my_mae))"
   ]
  },
  {
   "cell_type": "code",
   "execution_count": 233,
   "id": "209d7ce0",
   "metadata": {},
   "outputs": [
    {
     "name": "stdout",
     "output_type": "stream",
     "text": [
      "49.13333333333333\n"
     ]
    }
   ],
   "source": [
    "from sklearn.ensemble import RandomForestRegressor\n",
    "from sklearn.metrics import mean_absolute_error\n",
    "\n",
    "forest_model = RandomForestRegressor(random_state=1)\n",
    "forest_model.fit(train_X, train_y)\n",
    "ass_pred = forest_model.predict(val_X)\n",
    "# ass_pred\n",
    "print(mean_absolute_error(val_y, ass_pred))"
   ]
  },
  {
   "cell_type": "code",
   "execution_count": null,
   "id": "3f3cc174",
   "metadata": {},
   "outputs": [],
   "source": []
  },
  {
   "cell_type": "code",
   "execution_count": 224,
   "id": "f2ecb476",
   "metadata": {},
   "outputs": [
    {
     "data": {
      "text/plain": [
       "0.979784738859607"
      ]
     },
     "execution_count": 224,
     "metadata": {},
     "output_type": "execute_result"
    }
   ],
   "source": [
    "from sklearn.ensemble import RandomForestRegressor\n",
    "from sklearn.metrics import r2_score\n",
    "from sklearn.model_selection import train_test_split\n",
    "\n",
    "X_train, X_test, y_train, y_test = train_test_split(X, y, test_size=0.3)\n",
    "\n",
    "rf = RandomForestRegressor(n_estimators=100)\n",
    "rf.fit(X_train, y_train)\n",
    "y_pred = rf.predict(X_test)\n",
    "r2_score(y_test, y_pred)"
   ]
  },
  {
   "cell_type": "code",
   "execution_count": 226,
   "id": "8a83089b",
   "metadata": {},
   "outputs": [
    {
     "data": {
      "image/png": "[encoded data removed]",
      "text/plain": [
       "<Figure size 640x480 with 1 Axes>"
      ]
     },
     "metadata": {},
     "output_type": "display_data"
    }
   ],
   "source": [
    "import matplotlib.pyplot as plt\n",
    "plt.figure()\n",
    "plt.scatter(y_test, y_pred)\n",
    "plt.scatter(y_test, y_test)\n",
    "plt.plot(y_test, y_test)\n",
    "plt.legend([\"Predicted\", \"Original\", \"Regression Line\"])\n",
    "plt.show()"
   ]
  }
 ],
 "metadata": {
  "kernelspec": {
   "display_name": "Python 3 (ipykernel)",
   "language": "python",
   "name": "python3"
  },
  "language_info": {
   "codemirror_mode": {
    "name": "ipython",
    "version": 3
   },
   "file_extension": ".py",
   "mimetype": "text/x-python",
   "name": "python",
   "nbconvert_exporter": "python",
   "pygments_lexer": "ipython3",
   "version": "3.11.5"
  }
 },
 "nbformat": 4,
 "nbformat_minor": 5
}
